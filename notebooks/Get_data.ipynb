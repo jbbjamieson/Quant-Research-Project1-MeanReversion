{
 "cells": [
  {
   "cell_type": "code",
   "execution_count": 7,
   "id": "e0f84007",
   "metadata": {},
   "outputs": [
    {
     "name": "stderr",
     "output_type": "stream",
     "text": [
      "C:\\Users\\jarvi\\AppData\\Local\\Temp\\ipykernel_15356\\2278063792.py:8: FutureWarning: YF.download() has changed argument auto_adjust default to True\n",
      "  data = yf.download(ticker, start=start_date, end=end_date)\n",
      "[*********************100%***********************]  1 of 1 completed\n"
     ]
    }
   ],
   "source": [
    "import yfinance as yf\n",
    "import pandas as pd\n",
    "\n",
    "\n",
    "ticker = 'SPY'\n",
    "start_date = '2015-01-01'\n",
    "end_date = '2025-01-01'\n",
    "data = yf.download(ticker, start=start_date, end=end_date)\n",
    "\n",
    "# Flatten columns if MultiIndex\n",
    "if isinstance(data.columns, pd.MultiIndex):\n",
    "    data.columns = data.columns.get_level_values(0)\n",
    "\n",
    "# Save raw closing prices\n",
    "data.to_csv('../data/spy_data.csv')"
   ]
  },
  {
   "cell_type": "code",
   "execution_count": 8,
   "id": "5b03c605",
   "metadata": {},
   "outputs": [
    {
     "name": "stderr",
     "output_type": "stream",
     "text": [
      "[*********************100%***********************]  3 of 3 completed\n"
     ]
    }
   ],
   "source": [
    "tickers = ['SPY','QQQ','IWM']\n",
    "start_date = '2015-01-01'\n",
    "end_date = '2025-01-01'\n",
    "\n",
    "# Download adjusted prices\n",
    "data = yf.download(tickers, start=start_date, end=end_date, auto_adjust=True)['Close']\n",
    "\n",
    "data.to_csv('../data/spy_qqq_iwm_close.csv')"
   ]
  }
 ],
 "metadata": {
  "kernelspec": {
   "display_name": "Python 3",
   "language": "python",
   "name": "python3"
  },
  "language_info": {
   "codemirror_mode": {
    "name": "ipython",
    "version": 3
   },
   "file_extension": ".py",
   "mimetype": "text/x-python",
   "name": "python",
   "nbconvert_exporter": "python",
   "pygments_lexer": "ipython3",
   "version": "3.13.7"
  }
 },
 "nbformat": 4,
 "nbformat_minor": 5
}
